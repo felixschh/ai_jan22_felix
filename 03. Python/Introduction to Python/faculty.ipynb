{
 "cells": [
  {
   "cell_type": "code",
   "execution_count": 1,
   "metadata": {},
   "outputs": [
    {
     "data": {
      "text/plain": [
       "479001600"
      ]
     },
     "execution_count": 1,
     "metadata": {},
     "output_type": "execute_result"
    }
   ],
   "source": [
    "def factorial(number):\n",
    "    if number < 1:\n",
    "        return 1\n",
    "    else:\n",
    "        return number * factorial(number-1)\n",
    "\n",
    "factorial(12)"
   ]
  }
 ],
 "metadata": {
  "interpreter": {
   "hash": "91a76cfce24dbe0482af89c059cae189bb68dd9bbcf9264f3a5ded3cbcdebcb9"
  },
  "kernelspec": {
   "display_name": "Python 3.9.7 64-bit ('base': conda)",
   "language": "python",
   "name": "python3"
  },
  "language_info": {
   "codemirror_mode": {
    "name": "ipython",
    "version": 3
   },
   "file_extension": ".py",
   "mimetype": "text/x-python",
   "name": "python",
   "nbconvert_exporter": "python",
   "pygments_lexer": "ipython3",
   "version": "3.9.7"
  },
  "orig_nbformat": 4
 },
 "nbformat": 4,
 "nbformat_minor": 2
}
