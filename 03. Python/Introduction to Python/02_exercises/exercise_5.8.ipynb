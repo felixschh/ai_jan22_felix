{
 "cells": [
  {
   "cell_type": "markdown",
   "metadata": {},
   "source": [
    "Exercise 5.8 (🌶️): A, B, C, and D are all different digits. The number DCBA is equal to 4 times the number ABCD. What are the digits? Note: to make ABCD and DCBA conventional numbers, neither A nor D can be zero. Use a quadruple-nested loop."
   ]
  },
  {
   "cell_type": "code",
   "execution_count": 2,
   "metadata": {},
   "outputs": [
    {
     "name": "stdout",
     "output_type": "stream",
     "text": [
      "A = 2\n",
      "B = 1\n",
      "C = 7\n",
      "D = 8\n"
     ]
    }
   ],
   "source": [
    "def solution():\n",
    "    for a in range(1,9):\n",
    "        for b in range(1,9):\n",
    "            for c in range (1,9):\n",
    "                for d in range(1,9):\n",
    "                    if 4 * (1000 * a + 100 * b + 10 * c + d) == (a + 10 * b + 100 * c + 1000 * d):\n",
    "                        print(\"A =\", a)\n",
    "                        print(\"B =\", b)\n",
    "                        print(\"C =\", c)\n",
    "                        print(\"D =\", d)\n",
    "    return\n",
    "\n",
    "solution()"
   ]
  },
  {
   "cell_type": "code",
   "execution_count": null,
   "metadata": {},
   "outputs": [],
   "source": []
  }
 ],
 "metadata": {
  "interpreter": {
   "hash": "91a76cfce24dbe0482af89c059cae189bb68dd9bbcf9264f3a5ded3cbcdebcb9"
  },
  "kernelspec": {
   "display_name": "Python 3.9.7 64-bit ('base': conda)",
   "language": "python",
   "name": "python3"
  },
  "language_info": {
   "codemirror_mode": {
    "name": "ipython",
    "version": 3
   },
   "file_extension": ".py",
   "mimetype": "text/x-python",
   "name": "python",
   "nbconvert_exporter": "python",
   "pygments_lexer": "ipython3",
   "version": "3.9.7"
  },
  "orig_nbformat": 4
 },
 "nbformat": 4,
 "nbformat_minor": 2
}
