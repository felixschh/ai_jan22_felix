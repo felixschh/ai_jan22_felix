{
 "cells": [
  {
   "cell_type": "markdown",
   "metadata": {},
   "source": [
    "## Previous excercise and data-set"
   ]
  },
  {
   "cell_type": "code",
   "execution_count": 6,
   "metadata": {},
   "outputs": [],
   "source": [
    "import pandas as pd\n",
    "import numpy as np\n",
    "import math\n",
    "\n",
    "def pyramid(rows):\n",
    "    for i in range(rows, 1, -1):\n",
    "        for space in range(0, rows-i):\n",
    "            print(\"  \", end=\"\")\n",
    "        for j in range(i, 2*i-1):\n",
    "            print(\"#\", end=\"\")\n",
    "        for j in range(1, i-1):\n",
    "            print(\"#\", end=\"\")\n",
    "        print()\n",
    "    return"
   ]
  },
  {
   "cell_type": "code",
   "execution_count": null,
   "metadata": {},
   "outputs": [],
   "source": []
  },
  {
   "cell_type": "markdown",
   "metadata": {},
   "source": [
    "# Translate the previous exercise intoa Class\n"
   ]
  },
  {
   "cell_type": "code",
   "execution_count": 2,
   "metadata": {},
   "outputs": [],
   "source": [
    "import pandas as pd\n",
    "import numpy as np\n",
    "import math\n",
    "import matplotlib as plt\n",
    "from collections import Counter\n"
   ]
  },
  {
   "cell_type": "code",
   "execution_count": 12,
   "metadata": {},
   "outputs": [
    {
     "ename": "TypeError",
     "evalue": "inverted_pyramid() missing 2 required positional arguments: 'self' and 'rows'",
     "output_type": "error",
     "traceback": [
      "\u001b[0;31m---------------------------------------------------------------------------\u001b[0m",
      "\u001b[0;31mTypeError\u001b[0m                                 Traceback (most recent call last)",
      "\u001b[0;32m/var/folders/57/x7svmv1x253fpczm114w1chm0000gn/T/ipykernel_21986/2090515568.py\u001b[0m in \u001b[0;36m<module>\u001b[0;34m\u001b[0m\n\u001b[1;32m     22\u001b[0m \u001b[0msample_pyramid\u001b[0m \u001b[0;34m=\u001b[0m \u001b[0mPyramid\u001b[0m\u001b[0;34m(\u001b[0m\u001b[0;36m5\u001b[0m\u001b[0;34m)\u001b[0m\u001b[0;34m\u001b[0m\u001b[0;34m\u001b[0m\u001b[0m\n\u001b[1;32m     23\u001b[0m \u001b[0;34m\u001b[0m\u001b[0m\n\u001b[0;32m---> 24\u001b[0;31m \u001b[0mPyramid\u001b[0m\u001b[0;34m.\u001b[0m\u001b[0minverted_pyramid\u001b[0m\u001b[0;34m(\u001b[0m\u001b[0;34m)\u001b[0m\u001b[0;34m\u001b[0m\u001b[0;34m\u001b[0m\u001b[0m\n\u001b[0m\u001b[1;32m     25\u001b[0m \u001b[0;31m# Pyramid.build_pyramid()\u001b[0m\u001b[0;34m\u001b[0m\u001b[0;34m\u001b[0m\u001b[0m\n",
      "\u001b[0;31mTypeError\u001b[0m: inverted_pyramid() missing 2 required positional arguments: 'self' and 'rows'"
     ]
    }
   ],
   "source": [
    "class Pyramid:\n",
    "\n",
    "    def __init__(self, rows):\n",
    "        self.rows = rows\n",
    "\n",
    "    def inverted_pyramid(self, rows):\n",
    "        for i in range(rows, 1, -1):\n",
    "            for rows in range(0, self.rows-i):\n",
    "                print(\"  \", end=\"\")\n",
    "            for j in range(i, 2*i-1):\n",
    "                print(\"#\", end=\"\")\n",
    "            for j in range(1, i-1):\n",
    "                print(\"#\", end=\"\")\n",
    "            print()\n",
    "        return\n",
    "\n",
    "    def build_pyramid(self, rows):\n",
    "        for i in range(1, self.rows +1):\n",
    "            print('#' * i)\n",
    "        return\n",
    "\n",
    "sample_pyramid = Pyramid(5)\n",
    "\n",
    "Pyramid.inverted_pyramid()\n",
    "# Pyramid.build_pyramid()"
   ]
  },
  {
   "cell_type": "code",
   "execution_count": null,
   "metadata": {},
   "outputs": [],
   "source": []
  }
 ],
 "metadata": {
  "interpreter": {
   "hash": "3606f1f72cab31e12ded3fd4dc568aeec6faa77d43eaca4ad210e84657d2ac3e"
  },
  "kernelspec": {
   "display_name": "Python 3.9.7 64-bit ('strive': conda)",
   "language": "python",
   "name": "python3"
  },
  "language_info": {
   "codemirror_mode": {
    "name": "ipython",
    "version": 3
   },
   "file_extension": ".py",
   "mimetype": "text/x-python",
   "name": "python",
   "nbconvert_exporter": "python",
   "pygments_lexer": "ipython3",
   "version": "3.9.7"
  },
  "orig_nbformat": 4
 },
 "nbformat": 4,
 "nbformat_minor": 2
}
