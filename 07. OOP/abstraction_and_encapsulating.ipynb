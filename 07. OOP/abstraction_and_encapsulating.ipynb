{
 "cells": [
  {
   "cell_type": "code",
   "execution_count": 4,
   "metadata": {},
   "outputs": [],
   "source": [
    "import pandas as pd\n",
    "import numpy as np\n",
    "import math\n",
    "import matplotlib as plt\n",
    "from collections import Counter\n",
    "\n",
    "#\n",
    "# ABSTRACTION AND ENCAPSULATING\n",
    "#\n",
    "\n",
    "class Book:\n",
    "    def __init__(self, name, publisher, isbn, selling_price=0): # constructor\n",
    "        self.name = name\n",
    "        self.publisher = publisher\n",
    "        self.isbn = isbn\n",
    "        self.__selling_price = 0 \n",
    "        self.__rating_stars = [] # __ means private\n",
    "        if selling_price > 0:\n",
    "            self.__selling_price = selling_price\n",
    "    \n",
    "    @property\n",
    "    # GETTER\n",
    "    def selling_price(self):\n",
    "        return self.__selling_price\n",
    "\n",
    "\n",
    "    #SETTER\n",
    "    @selling_price.setter\n",
    "    def selling_price(self, price):\n",
    "        if price <= 0:\n",
    "            raise ValueError(\"The price must be greater that 0, we don't give away books for free!\")\n",
    "        self.__selling_price = price\n",
    "\n",
    "    def add_rating(self, stars):\n",
    "        self.__rating_stars.append(stars)\n",
    "        # s = [5,5,5,4,4,2,1,3]\n",
    "\n",
    "    def get_ratings_average(self):\n",
    "        return sum(self.__rating_stars) / len(self.__rating_stars)\n",
    "\n",
    "    def get_total_ratings(self):\n",
    "        return len(self.__rating_stars)\n",
    "\n",
    "    def get_stars_count(self):\n",
    "        return dict(Counter(self.__rating_stars))\n",
    "\n",
    "    def __str__(self):\n",
    "        return f'Book name:{self.name}\\nBook Publisher: {self.publisher}\\nBook ISBN: {self.isbn}\\nBook Price: {self.selling_price}'\n",
    "\n"
   ]
  },
  {
   "cell_type": "code",
   "execution_count": 10,
   "metadata": {},
   "outputs": [
    {
     "name": "stdout",
     "output_type": "stream",
     "text": [
      "Book name:Book name\n",
      "Book Publisher: Publisher name\n",
      "Book ISBN: 838283812438\n",
      "Book Price: 14.99\n",
      "\n",
      "\n",
      "Book name:Book2 name\n",
      "Book Publisher: Publisher name2\n",
      "Book ISBN: 83828382318\n",
      "Book Price: 20.99\n"
     ]
    }
   ],
   "source": [
    "# from book import Book\n",
    "\n",
    "if __name__ == '__main__':\n",
    "    book = Book('Book name', 'Publisher name', '838283812438', 14.99)\n",
    "    book2 = Book('Book2 name', 'Publisher name2', '83828382318', 20.99)\n",
    "    print(book)\n",
    "    print('\\n')\n",
    "    print(book2)"
   ]
  },
  {
   "cell_type": "code",
   "execution_count": null,
   "metadata": {},
   "outputs": [],
   "source": []
  }
 ],
 "metadata": {
  "interpreter": {
   "hash": "3606f1f72cab31e12ded3fd4dc568aeec6faa77d43eaca4ad210e84657d2ac3e"
  },
  "kernelspec": {
   "display_name": "Python 3.9.7 64-bit ('strive': conda)",
   "language": "python",
   "name": "python3"
  },
  "language_info": {
   "codemirror_mode": {
    "name": "ipython",
    "version": 3
   },
   "file_extension": ".py",
   "mimetype": "text/x-python",
   "name": "python",
   "nbconvert_exporter": "python",
   "pygments_lexer": "ipython3",
   "version": "3.9.7"
  },
  "orig_nbformat": 4
 },
 "nbformat": 4,
 "nbformat_minor": 2
}
