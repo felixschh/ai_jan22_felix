{
 "cells": [
  {
   "cell_type": "code",
   "execution_count": 9,
   "metadata": {},
   "outputs": [],
   "source": [
    "import pandas as pd\n",
    "import numpy as np\n",
    "import math\n",
    "import matplotlib as plt\n",
    "from collections import Counter\n",
    "\n",
    "#\n",
    "# ABSTRACTION AND ENCAPSULATING\n",
    "#\n",
    "\n",
    "class Book:\n",
    "    def __init__(self, name, publisher, isbn, selling_price=0): # constructor\n",
    "        self.name = name\n",
    "        self.publisher = publisher\n",
    "        self.isbn = isbn\n",
    "        self.__selling_price = 0 \n",
    "        self.__rating_stars = [] # __ means private\n",
    "        if selling_price > 0:\n",
    "            self.__selling_price = selling_price\n",
    "    \n",
    "    @property\n",
    "    # GETTER\n",
    "    def selling_price(self):\n",
    "        return self.__selling_price\n",
    "\n",
    "    @selling_price.setter\n",
    "    def selling_price(self, price):\n",
    "        if price <= 0:\n",
    "            raise ValueError(\"The price must be greater that 0, we don't give away books for free!\")\n",
    "        self.__selling_price = price\n",
    "\n",
    "    def add_rating(self, stars):\n",
    "        self.__rating_stars.append(stars)\n",
    "        # s = [5,5,5,4,4,2,1,3]\n",
    "\n",
    "    def get_ratings_average(self):\n",
    "        return sum(self.__rating_stars) / len(self.__rating_stars)\n",
    "\n",
    "    def get_total_ratings(self):\n",
    "        return len(self.__rating_stars)\n",
    "\n",
    "    def get_stars_count(self):\n",
    "        return dict(Counter(self.__rating_stars))\n",
    "\n",
    "\n"
   ]
  }
 ],
 "metadata": {
  "interpreter": {
   "hash": "3606f1f72cab31e12ded3fd4dc568aeec6faa77d43eaca4ad210e84657d2ac3e"
  },
  "kernelspec": {
   "display_name": "Python 3.9.7 64-bit ('strive': conda)",
   "language": "python",
   "name": "python3"
  },
  "language_info": {
   "codemirror_mode": {
    "name": "ipython",
    "version": 3
   },
   "file_extension": ".py",
   "mimetype": "text/x-python",
   "name": "python",
   "nbconvert_exporter": "python",
   "pygments_lexer": "ipython3",
   "version": "3.9.7"
  },
  "orig_nbformat": 4
 },
 "nbformat": 4,
 "nbformat_minor": 2
}
