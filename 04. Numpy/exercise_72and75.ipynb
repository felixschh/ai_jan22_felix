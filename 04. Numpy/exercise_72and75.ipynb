{
 "cells": [
  {
   "cell_type": "markdown",
   "metadata": {},
   "source": [
    "#### 72. How to swap two rows of an array? (★★★)"
   ]
  },
  {
   "cell_type": "code",
   "execution_count": 1,
   "metadata": {},
   "outputs": [
    {
     "name": "stdout",
     "output_type": "stream",
     "text": [
      "Before\n",
      "[[24 88  3 23 16 41 54 13 65 61]\n",
      " [13 41 58 49 18 82 20 63 81 41]\n",
      " [90 99 49 30 81 37 17 20 40 82]\n",
      " [61 71 95 83 48 51 85 76 76 44]\n",
      " [35 69  4 78 78  5 53 12 43 77]]\n",
      "After:\n",
      "[[90 99 49 30 81 37 17 20 40 82]\n",
      " [13 41 58 49 18 82 20 63 81 41]\n",
      " [24 88  3 23 16 41 54 13 65 61]\n",
      " [61 71 95 83 48 51 85 76 76 44]\n",
      " [35 69  4 78 78  5 53 12 43 77]]\n"
     ]
    }
   ],
   "source": [
    "import numpy as np\n",
    "\n",
    "a = np.array([[24, 88,  3, 23, 16, 41, 54, 13, 65, 61,], [13, 41, 58, 49, 18, 82, 20, 63, 81, 41], [90, 99, 49, 30, 81, 37, 17, 20, 40, 82], [61, 71, 95, 83, 48, 51, 85, 76, 76, 44], [35, 69,  4, 78, 78,  5, 53, 12, 43, 77]])\n",
    "print('Before')\n",
    "print(a)\n",
    "\n",
    "a[[0, 2]] = a[[2, 0]]\n",
    "print('After:')\n",
    "print(a)"
   ]
  },
  {
   "cell_type": "markdown",
   "metadata": {},
   "source": [
    "#### 75. How to compute averages using a sliding window over an array? (★★★)"
   ]
  },
  {
   "cell_type": "code",
   "execution_count": null,
   "metadata": {},
   "outputs": [],
   "source": [
    "import numpy as np\n",
    "\n",
    "def maverage(arr, window):\n",
    "    return np.convolve(arr, np.ones(window), 'valid')\n",
    "\n",
    "b = np.array([24, 88,  3, 23, 16, 41, 54, 13, 65, 61]) # [13, 41, 58, 49, 18, 82, 20, 63, 81, 41]), [90, 99, 49, 30, 81, 37, 17, 20, 40, 82], [61, 71, 95, 83, 48, 51, 85, 76, 76, 44], [35, 69,  4, 78, 78,  5, 53, 12, 43, 77]])\n",
    "\n",
    "np.convolve(b, 1)\n"
   ]
  }
 ],
 "metadata": {
  "interpreter": {
   "hash": "3606f1f72cab31e12ded3fd4dc568aeec6faa77d43eaca4ad210e84657d2ac3e"
  },
  "kernelspec": {
   "display_name": "Python 3.9.7 64-bit ('strive': conda)",
   "language": "python",
   "name": "python3"
  },
  "language_info": {
   "codemirror_mode": {
    "name": "ipython",
    "version": 3
   },
   "file_extension": ".py",
   "mimetype": "text/x-python",
   "name": "python",
   "nbconvert_exporter": "python",
   "pygments_lexer": "ipython3",
   "version": "3.9.7"
  },
  "orig_nbformat": 4
 },
 "nbformat": 4,
 "nbformat_minor": 2
}
