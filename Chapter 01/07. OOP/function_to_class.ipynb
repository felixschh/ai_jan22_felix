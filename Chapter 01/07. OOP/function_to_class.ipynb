{
 "cells": [
  {
   "cell_type": "markdown",
   "metadata": {},
   "source": [
    "## Previous excercise and data-set"
   ]
  },
  {
   "cell_type": "code",
   "execution_count": 6,
   "metadata": {},
   "outputs": [],
   "source": [
    "import pandas as pd\n",
    "import numpy as np\n",
    "import math\n",
    "\n",
    "def pyramid(rows):\n",
    "    for i in range(rows, 1, -1):\n",
    "        for space in range(0, rows-i):\n",
    "            print(\"  \", end=\"\")\n",
    "        for j in range(i, 2*i-1):\n",
    "            print(\"#\", end=\"\")\n",
    "        for j in range(1, i-1):\n",
    "            print(\"#\", end=\"\")\n",
    "        print()\n",
    "    return"
   ]
  },
  {
   "cell_type": "code",
   "execution_count": null,
   "metadata": {},
   "outputs": [],
   "source": []
  },
  {
   "cell_type": "markdown",
   "metadata": {},
   "source": [
    "# Translate the previous exercise intoa Class\n"
   ]
  },
  {
   "cell_type": "code",
   "execution_count": 2,
   "metadata": {},
   "outputs": [],
   "source": [
    "import pandas as pd\n",
    "import numpy as np\n",
    "import math\n",
    "import matplotlib as plt\n",
    "from collections import Counter\n"
   ]
  },
  {
   "cell_type": "code",
   "execution_count": 3,
   "metadata": {},
   "outputs": [
    {
     "name": "stdout",
     "output_type": "stream",
     "text": [
      "#\n",
      "##\n",
      "###\n",
      "####\n",
      "#####\n",
      "     ####\n",
      "     ###\n",
      "     ##\n",
      "     #\n",
      "     \n"
     ]
    }
   ],
   "source": [
    "class Pyramid:\n",
    "    def __init__(self, rows):\n",
    "        self.rows = rows\n",
    "    \n",
    "    def build_pyramid(self):\n",
    "        for i in range(1, self.rows +1):\n",
    "            print(\"#\" * i)\n",
    "    \n",
    "\n",
    "\n",
    "p = Pyramid(5)\n",
    "\n",
    "p.build_pyramid()\n",
    "\n"
   ]
  },
  {
   "cell_type": "code",
   "execution_count": null,
   "metadata": {},
   "outputs": [],
   "source": []
  }
 ],
 "metadata": {
  "interpreter": {
   "hash": "3606f1f72cab31e12ded3fd4dc568aeec6faa77d43eaca4ad210e84657d2ac3e"
  },
  "kernelspec": {
   "display_name": "Python 3.9.7 64-bit ('strive': conda)",
   "language": "python",
   "name": "python3"
  },
  "language_info": {
   "codemirror_mode": {
    "name": "ipython",
    "version": 3
   },
   "file_extension": ".py",
   "mimetype": "text/x-python",
   "name": "python",
   "nbconvert_exporter": "python",
   "pygments_lexer": "ipython3",
   "version": "3.9.7"
  },
  "orig_nbformat": 4
 },
 "nbformat": 4,
 "nbformat_minor": 2
}
