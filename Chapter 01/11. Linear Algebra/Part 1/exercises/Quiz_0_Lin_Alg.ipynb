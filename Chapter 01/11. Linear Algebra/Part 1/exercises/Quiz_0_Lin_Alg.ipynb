{
 "cells": [
  {
   "cell_type": "markdown",
   "metadata": {},
   "source": [
    "# Vectors and Matrices\n",
    "Time to work! Do it with numpy first and then if you have time, manually by hand :)"
   ]
  },
  {
   "cell_type": "markdown",
   "metadata": {},
   "source": [
    "## Vectors"
   ]
  },
  {
   "cell_type": "markdown",
   "metadata": {},
   "source": [
    "Lists can be used to represent mathematical vectors. In this exercise and several that follow you will write functions to perform standard operations on vectors. Create a file named vectors.py or use the Jupyter notebook provided\n",
    "\n",
    "Write a function add_vectors(u, v) that takes two lists of numbers of the same length, and returns a new list containing the sums of the corresponding elements of each.\n",
    "\n",
    "**Note that the text in \"\"\" \"\"\" is provided for you to accurately verify that your function works :)**"
   ]
  },
  {
   "cell_type": "code",
   "execution_count": 3,
   "metadata": {
    "ExecuteTime": {
     "end_time": "2021-06-07T12:55:04.065651Z",
     "start_time": "2021-06-07T12:55:04.052145Z"
    }
   },
   "outputs": [
    {
     "name": "stdout",
     "output_type": "stream",
     "text": [
      "[2, 1]\n"
     ]
    }
   ],
   "source": [
    "def add_vectors(u, v):\n",
    "  return [u + v for (u, v) in zip(u, v)]\n",
    "\n",
    "  \n",
    "  \n",
    "print(add_vectors([1, 0], [1, 1]))\n",
    "    #   # [2, 1]\n",
    "    #   >>> add_vectors([1, 2], [1, 4])\n",
    "    #   # [2, 6]\n",
    "    #   >>> add_vectors([1, 2, 1], [1, 4, 3])\n",
    "    #   # [2, 6, 4]\n",
    "    #   >>> add_vectors([11, 0, -4, 5], [2, -4, 17, 0])\n",
    "    #   # [13, -4, 13, 5]\n",
    "    #   >>> a = [1, 2, 3]\n",
    "    #   >>> b = [1, 1, 1]\n",
    "    #   >>> add_vectors(a, b)\n",
    "    #   # [2, 3, 4]\n",
    "    #   >>> a\n",
    "    #   # [1, 2, 3]\n",
    "    #   >>> b\n",
    "    #   # [1, 1, 1]\n",
    "    # pass\n"
   ]
  },
  {
   "cell_type": "markdown",
   "metadata": {},
   "source": [
    "Write a function scalar_mult(s, v) that takes a number, s, and a list, v and returns the [scalar multiple](https://en.wikipedia.org/wiki/Scalar_multiplication) of v by s."
   ]
  },
  {
   "cell_type": "code",
   "execution_count": 10,
   "metadata": {
    "ExecuteTime": {
     "end_time": "2021-06-07T12:55:19.258850Z",
     "start_time": "2021-06-07T12:55:19.249823Z"
    }
   },
   "outputs": [
    {
     "name": "stdout",
     "output_type": "stream",
     "text": [
      "[0, 5]\n"
     ]
    }
   ],
   "source": [
    "def scalar_mult(s, v):\n",
    "  result = []\n",
    "  for i in range(len(v)):\n",
    "    result.append(s*i)\n",
    "\n",
    "\n",
    "  return result\n",
    "  \n",
    "print(scalar_mult(5, [1, 2]))\n",
    "   \n",
    "    #   >>> scalar_mult(5, [1, 2])\n",
    "    #   [5, 10]\n",
    "    #   >>> scalar_mult(3, [1, 0, -1])\n",
    "    #   [3, 0, -3]\n",
    "    #   >>> scalar_mult(7, [3, 0, 5, 11, 2])\n",
    "    #   [21, 0, 35, 77, 14]\n",
    "    #   >>> a = [1, 2, 3]\n",
    "    #   >>> scalar_mult(4, a)\n",
    "    #   [4, 8, 12]\n",
    "    #   >>> a\n",
    "    #   [1, 2, 3]\n",
    "    \n",
    "    # pass"
   ]
  },
  {
   "cell_type": "markdown",
   "metadata": {},
   "source": [
    "Write a function dot_product(u, v) that takes two lists of numbers of the same length, and returns the sum of the products of the corresponding elements of each (the [dot_product](https://en.wikipedia.org/wiki/Dot_product)."
   ]
  },
  {
   "cell_type": "code",
   "execution_count": 12,
   "metadata": {
    "ExecuteTime": {
     "end_time": "2021-06-07T12:55:22.647998Z",
     "start_time": "2021-06-07T12:55:22.642607Z"
    }
   },
   "outputs": [
    {
     "name": "stdout",
     "output_type": "stream",
     "text": [
      "9\n"
     ]
    }
   ],
   "source": [
    "def dot_product(u, v):\n",
    "  return sum(x*y for x, y in zip(u,v))\n",
    "\n",
    "print(dot_product([1,2], [1,4]))\n",
    "\n",
    "\n",
    "    # \"\"\"\n",
    "    #   >>> dot_product([1, 1], [1, 1])\n",
    "    #   2\n",
    "    #   >>> dot_product([1, 2], [1, 4])\n",
    "    #   9\n",
    "    #   >>> dot_product([1, 2, 1], [1, 4, 3])\n",
    "    #   12\n",
    "    #   >>> dot_product([2, 0, -1, 1], [1, 5, 2, 0])\n",
    "    #   0\n",
    "    # \"\"\""
   ]
  },
  {
   "cell_type": "markdown",
   "metadata": {},
   "source": [
    "## Matrices"
   ]
  },
  {
   "cell_type": "markdown",
   "metadata": {},
   "source": [
    "Create a new module named matrices.py or *use the Jupyter notebook provided* and add the following function, which returns a copy of nested lists of numbers such that the lists are not aliases:"
   ]
  },
  {
   "cell_type": "code",
   "execution_count": 15,
   "metadata": {
    "ExecuteTime": {
     "end_time": "2021-06-07T12:55:25.891991Z",
     "start_time": "2021-06-07T12:55:25.888466Z"
    }
   },
   "outputs": [
    {
     "name": "stdout",
     "output_type": "stream",
     "text": [
      "[[1, 2], [3, 4]]\n"
     ]
    }
   ],
   "source": [
    "def copy_matrix(matrix):\n",
    "  copy = matrix\n",
    "  return copy\n",
    "\n",
    "print(copy_matrix([[1,2], [3,4]]))\n",
    "    # \"\"\"\n",
    "    #   >>> copy_matrix([[1, 2], [3, 4]])\n",
    "    #   [[1, 2], [3, 4]]\n",
    "    #   >>> copy_matrix([[1, 2, 3], [4, 5, 6]])\n",
    "    #   [[1, 2, 3], [4, 5, 6]]\n",
    "    #   >>> copy_matrix([[1, 2], [3, 4], [5, 6], [7, 8]])\n",
    "    #   [[1, 2], [3, 4], [5, 6], [7, 8]]\n",
    "    #   >>> m = [[1, 0, 0], [0, 2, 0], [0, 0, 3]]\n",
    "    #   >>> copyofm = copy_matrix(m)\n",
    "    #   >>> copyofm\n",
    "    #   [[1, 0, 0], [0, 2, 0], [0, 0, 3]]\n",
    "    #   >>> for row_num, row in enumerate(copyofm):\n",
    "    #   ...     for col_num, col_val in enumerate(row):\n",
    "    #   ...         copyofm[row_num][col_num] = 42\n",
    "    #   ...\n",
    "    #   >>> copyofm\n",
    "    #   [[42, 42, 42], [42, 42, 42], [42, 42, 42]]\n",
    "    #   >>> m\n",
    "    #   [[1, 0, 0], [0, 2, 0], [0, 0, 3]]\n",
    "    # \"\"\"\n",
    "    # pass"
   ]
  },
  {
   "cell_type": "code",
   "execution_count": 5,
   "metadata": {
    "ExecuteTime": {
     "end_time": "2021-06-07T12:55:28.752996Z",
     "start_time": "2021-06-07T12:55:28.749066Z"
    }
   },
   "outputs": [],
   "source": [
    "def add_row(matrix):\n",
    "  \n",
    "    \"\"\"\n",
    "      >>> m = [[0, 0], [0, 0]]\n",
    "      >>> add_row(m)\n",
    "      [[0, 0], [0, 0], [0, 0]]\n",
    "      >>> n = [[3, 2, 5], [1, 4, 7]]\n",
    "      >>> add_row(n)\n",
    "      [[3, 2, 5], [1, 4, 7], [0, 0, 0]]\n",
    "      >>> n\n",
    "      [[3, 2, 5], [1, 4, 7]]\n",
    "    \"\"\"\n",
    "    pass"
   ]
  },
  {
   "cell_type": "code",
   "execution_count": 6,
   "metadata": {
    "ExecuteTime": {
     "end_time": "2021-06-07T12:55:31.190111Z",
     "start_time": "2021-06-07T12:55:31.186840Z"
    }
   },
   "outputs": [],
   "source": [
    "def add_column(matrix):\n",
    "    \"\"\"\n",
    "      >>> m = [[0, 0], [0, 0]]\n",
    "      >>> add_column(m)\n",
    "      [[0, 0, 0], [0, 0, 0]]\n",
    "      >>> n = [[3, 2], [5, 1], [4, 7]]\n",
    "      >>> add_column(n)\n",
    "      [[3, 2, 0], [5, 1, 0], [4, 7, 0]]\n",
    "      >>> n\n",
    "      [[3, 2], [5, 1], [4, 7]]\n",
    "    \"\"\"\n",
    "    pass"
   ]
  },
  {
   "cell_type": "markdown",
   "metadata": {},
   "source": [
    "Write a function add_matrices(m1, m2) that adds m1 and m2 and returns a new matrix containing their sum. You can assume that m1 and m2 are the same size. You add two matrices by adding their corresponding values."
   ]
  },
  {
   "cell_type": "code",
   "execution_count": 20,
   "metadata": {
    "ExecuteTime": {
     "end_time": "2021-06-07T12:55:42.884497Z",
     "start_time": "2021-06-07T12:55:42.864759Z"
    }
   },
   "outputs": [
    {
     "name": "stdout",
     "output_type": "stream",
     "text": [
      "[[3, 4], [5, 6]]\n"
     ]
    }
   ],
   "source": [
    "\n",
    "def zeros_matrix(rows, cols):\n",
    "    matrix = []\n",
    "    while len(matrix) < rows:\n",
    "        matrix.append([])\n",
    "        while len(matrix[-1]) < cols:\n",
    "            matrix[-1].append(0.0)\n",
    " \n",
    "    return matrix\n",
    "\n",
    "\n",
    "\n",
    "def add_matrices(m1, m2):\n",
    "  rowsm1 = len(m1)\n",
    "  colsm1 = len(m1[0])\n",
    "  rowsm2 = len(m2)\n",
    "  colsm2 = len(m2[0])\n",
    "  if rowsm1 != rowsm2 or colsm1 != colsm2:\n",
    "      raise ArithmeticError('Matrices are NOT the same size.')\n",
    "\n",
    "  # Section 2: Create a new matrix for the matrix sum\n",
    "  m3 = zeros_matrix(rowsm1, colsm2)\n",
    "\n",
    "  # Section 3: Perform element by element sum\n",
    "  for i in range(rowsm1):\n",
    "      for j in range(colsm2):\n",
    "          m3[i][j] = m1[i][j] + m2[i][j]\n",
    "\n",
    "  return m3\n",
    "\n",
    "a = [[1, 2], [3, 4]]\n",
    "b = [[2, 2], [2, 2]]\n",
    "print(add_matrices(a, b))\n",
    "\n",
    "\n",
    "\n",
    "  #   \"\"\"\n",
    "  #     >>> a = [[1, 2], [3, 4]]\n",
    "  #     >>> b = [[2, 2], [2, 2]]\n",
    "  #     >>> add_matrices(a, b)\n",
    "  #     [[3, 4], [5, 6]]\n",
    "  #     >>> c = [[8, 2], [3, 4], [5, 7]]\n",
    "  #     >>> d = [[3, 2], [9, 2], [10, 12]]\n",
    "  #     >>> add_matrices(c, d)\n",
    "  #     [[11, 4], [12, 6], [15, 19]]\n",
    "  #     >>> c\n",
    "  #     [[8, 2], [3, 4], [5, 7]]\n",
    "  #     >>> d\n",
    "  #     [[3, 2], [9, 2], [10, 12]]\n",
    "  #  \"\"\"\n",
    "  #   pass"
   ]
  },
  {
   "cell_type": "markdown",
   "metadata": {},
   "source": [
    "Write a function scalar_mult(s, m) that multiplies a matrix, m, by a scalar, s."
   ]
  },
  {
   "cell_type": "code",
   "execution_count": 23,
   "metadata": {
    "ExecuteTime": {
     "end_time": "2021-06-07T12:55:47.182931Z",
     "start_time": "2021-06-07T12:55:47.178180Z"
    }
   },
   "outputs": [
    {
     "ename": "TypeError",
     "evalue": "'int' object is not iterable",
     "output_type": "error",
     "traceback": [
      "\u001b[0;31m---------------------------------------------------------------------------\u001b[0m",
      "\u001b[0;31mTypeError\u001b[0m                                 Traceback (most recent call last)",
      "\u001b[0;32m/var/folders/57/x7svmv1x253fpczm114w1chm0000gn/T/ipykernel_40362/1905448447.py\u001b[0m in \u001b[0;36m<module>\u001b[0;34m\u001b[0m\n\u001b[1;32m     10\u001b[0m \u001b[0;34m\u001b[0m\u001b[0m\n\u001b[1;32m     11\u001b[0m \u001b[0ma\u001b[0m \u001b[0;34m=\u001b[0m \u001b[0;34m[\u001b[0m\u001b[0;34m[\u001b[0m\u001b[0;36m1\u001b[0m\u001b[0;34m,\u001b[0m \u001b[0;36m2\u001b[0m\u001b[0;34m]\u001b[0m\u001b[0;34m,\u001b[0m \u001b[0;34m[\u001b[0m\u001b[0;36m3\u001b[0m\u001b[0;34m,\u001b[0m \u001b[0;36m4\u001b[0m\u001b[0;34m]\u001b[0m\u001b[0;34m]\u001b[0m\u001b[0;34m\u001b[0m\u001b[0;34m\u001b[0m\u001b[0m\n\u001b[0;32m---> 12\u001b[0;31m \u001b[0mprint\u001b[0m\u001b[0;34m(\u001b[0m\u001b[0mscalar_mult\u001b[0m\u001b[0;34m(\u001b[0m\u001b[0;36m3\u001b[0m\u001b[0;34m,\u001b[0m \u001b[0ma\u001b[0m\u001b[0;34m)\u001b[0m\u001b[0;34m)\u001b[0m\u001b[0;34m\u001b[0m\u001b[0;34m\u001b[0m\u001b[0m\n\u001b[0m\u001b[1;32m     13\u001b[0m \u001b[0;34m\u001b[0m\u001b[0m\n\u001b[1;32m     14\u001b[0m \u001b[0;34m\u001b[0m\u001b[0m\n",
      "\u001b[0;32m/var/folders/57/x7svmv1x253fpczm114w1chm0000gn/T/ipykernel_40362/1905448447.py\u001b[0m in \u001b[0;36mscalar_mult\u001b[0;34m(s, m)\u001b[0m\n\u001b[1;32m      3\u001b[0m   \u001b[0mvector\u001b[0m \u001b[0;34m=\u001b[0m \u001b[0;34m[\u001b[0m\u001b[0;34m]\u001b[0m\u001b[0;34m\u001b[0m\u001b[0;34m\u001b[0m\u001b[0m\n\u001b[1;32m      4\u001b[0m   \u001b[0;32mfor\u001b[0m \u001b[0mi\u001b[0m \u001b[0;32min\u001b[0m \u001b[0mrange\u001b[0m\u001b[0;34m(\u001b[0m\u001b[0mlen\u001b[0m\u001b[0;34m(\u001b[0m\u001b[0mm\u001b[0m\u001b[0;34m)\u001b[0m\u001b[0;34m)\u001b[0m\u001b[0;34m:\u001b[0m\u001b[0;34m\u001b[0m\u001b[0;34m\u001b[0m\u001b[0m\n\u001b[0;32m----> 5\u001b[0;31m     \u001b[0;32mfor\u001b[0m \u001b[0mj\u001b[0m \u001b[0;32min\u001b[0m \u001b[0mi\u001b[0m\u001b[0;34m:\u001b[0m\u001b[0;34m\u001b[0m\u001b[0;34m\u001b[0m\u001b[0m\n\u001b[0m\u001b[1;32m      6\u001b[0m       \u001b[0mvector\u001b[0m\u001b[0;34m.\u001b[0m\u001b[0mappend\u001b[0m\u001b[0;34m(\u001b[0m\u001b[0ms\u001b[0m\u001b[0;34m*\u001b[0m\u001b[0mj\u001b[0m\u001b[0;34m)\u001b[0m\u001b[0;34m\u001b[0m\u001b[0;34m\u001b[0m\u001b[0m\n\u001b[1;32m      7\u001b[0m     \u001b[0mresult\u001b[0m\u001b[0;34m.\u001b[0m\u001b[0mappend\u001b[0m\u001b[0;34m(\u001b[0m\u001b[0mvector\u001b[0m\u001b[0;34m)\u001b[0m\u001b[0;34m\u001b[0m\u001b[0;34m\u001b[0m\u001b[0m\n",
      "\u001b[0;31mTypeError\u001b[0m: 'int' object is not iterable"
     ]
    }
   ],
   "source": [
    "def scalar_mult(s, m):\n",
    "  result = []\n",
    "  vector = []\n",
    "  for i in range(len(m)):\n",
    "    for j in i:\n",
    "      vector.append(s*j)\n",
    "    result.append(vector)\n",
    "  return result\n",
    "\n",
    "\n",
    "a = [[1, 2], [3, 4]]\n",
    "print(scalar_mult(3, a))\n",
    "  \n",
    "  \n",
    "    \n",
    "    \n",
    "    \n",
    "    \n",
    "    # \"\"\"\n",
    "      # >>> a = [[1, 2], [3, 4]]\n",
    "    #   >>> scalar_mult(3, a)\n",
    "    #   [[3, 6], [9, 12]]\n",
    "    #   >>> b = [[3, 5, 7], [1, 1, 1], [0, 2, 0], [2, 2, 3]]\n",
    "    #   >>> scalar_mult(10, b)\n",
    "    #   [[30, 50, 70], [10, 10, 10], [0, 20, 0], [20, 20, 30]]\n",
    "    #   >>> b\n",
    "    #   [[3, 5, 7], [1, 1, 1], [0, 2, 0], [2, 2, 3]]\n",
    "    # \"\"\"\n",
    "    # pass"
   ]
  },
  {
   "cell_type": "markdown",
   "metadata": {},
   "source": [
    "Write functions row_times_column and matrix_mult:"
   ]
  },
  {
   "cell_type": "code",
   "execution_count": 10,
   "metadata": {
    "ExecuteTime": {
     "end_time": "2021-06-07T12:55:52.098971Z",
     "start_time": "2021-06-07T12:55:52.095060Z"
    }
   },
   "outputs": [],
   "source": [
    "def row_times_column(m1, row, m2, column):\n",
    "    \"\"\"\n",
    "      >>> row_times_column([[1, 2], [3, 4]], 0, [[5, 6], [7, 8]], 0)\n",
    "      19\n",
    "      >>> row_times_column([[1, 2], [3, 4]], 0, [[5, 6], [7, 8]], 1)\n",
    "      22\n",
    "      >>> row_times_column([[1, 2], [3, 4]], 1, [[5, 6], [7, 8]], 0)\n",
    "      43\n",
    "      >>> row_times_column([[1, 2], [3, 4]], 1, [[5, 6], [7, 8]], 1)\n",
    "      50\n",
    "    \"\"\"\n",
    "    pass"
   ]
  },
  {
   "cell_type": "code",
   "execution_count": 13,
   "metadata": {
    "ExecuteTime": {
     "end_time": "2021-06-07T12:56:10.904256Z",
     "start_time": "2021-06-07T12:56:10.900955Z"
    }
   },
   "outputs": [],
   "source": [
    "def matrix_mult(m1, m2):\n",
    "    \"\"\"\n",
    "      >>> matrix_mult([[1, 2], [3,  4]], [[5, 6], [7, 8]])\n",
    "      [[19, 22], [43, 50]]\n",
    "      >>> matrix_mult([[1, 2, 3], [4,  5, 6]], [[7, 8], [9, 1], [2, 3]])\n",
    "      [[31, 19], [85, 55]]\n",
    "      >>> matrix_mult([[7, 8], [9, 1], [2, 3]], [[1, 2, 3], [4, 5, 6]])\n",
    "      [[39, 54, 69], [13, 23, 33], [14, 19, 24]]\n",
    "    \"\"\"\n",
    "    pass"
   ]
  },
  {
   "cell_type": "markdown",
   "metadata": {},
   "source": [
    "Write a function transpose that takes a matrix as an argument and returns is transpose:"
   ]
  },
  {
   "cell_type": "code",
   "execution_count": 15,
   "metadata": {
    "ExecuteTime": {
     "end_time": "2021-06-07T12:56:20.280054Z",
     "start_time": "2021-06-07T12:56:20.276651Z"
    }
   },
   "outputs": [],
   "source": [
    "def transpose(m):\n",
    "  rows = len(m)\n",
    "  columns = len(m[0])\n",
    "  matrixt = []\n",
    "  for j in range(columns):\n",
    "      row = []\n",
    "      for i in range(rows):\n",
    "         row.append(matrixt[i][j])\n",
    "      matrixt.append(row)\n",
    "  return matrixt"
   ]
  },
  {
   "cell_type": "code",
   "execution_count": null,
   "metadata": {},
   "outputs": [],
   "source": []
  }
 ],
 "metadata": {
  "kernelspec": {
   "display_name": "Python 3",
   "language": "python",
   "name": "python3"
  },
  "language_info": {
   "codemirror_mode": {
    "name": "ipython",
    "version": 3
   },
   "file_extension": ".py",
   "mimetype": "text/x-python",
   "name": "python",
   "nbconvert_exporter": "python",
   "pygments_lexer": "ipython3",
   "version": "3.9.7"
  },
  "varInspector": {
   "cols": {
    "lenName": 16,
    "lenType": 16,
    "lenVar": 40
   },
   "kernels_config": {
    "python": {
     "delete_cmd_postfix": "",
     "delete_cmd_prefix": "del ",
     "library": "var_list.py",
     "varRefreshCmd": "print(var_dic_list())"
    },
    "r": {
     "delete_cmd_postfix": ") ",
     "delete_cmd_prefix": "rm(",
     "library": "var_list.r",
     "varRefreshCmd": "cat(var_dic_list()) "
    }
   },
   "types_to_exclude": [
    "module",
    "function",
    "builtin_function_or_method",
    "instance",
    "_Feature"
   ],
   "window_display": false
  }
 },
 "nbformat": 4,
 "nbformat_minor": 2
}
