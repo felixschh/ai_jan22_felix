{
 "cells": [
  {
   "cell_type": "markdown",
   "metadata": {},
   "source": [
    "**Exercise 5.2:** Write and test three functions that return the largest, the smallest, and the number of dividables by 3 in a given collection of numbers. Use the algorithm described earlier in the Part 5 lecture :)"
   ]
  },
  {
   "cell_type": "code",
   "execution_count": null,
   "metadata": {},
   "outputs": [],
   "source": [
    "# Your functions\n",
    "a = [2, 4, 6, 12, 15, 99, 100]\n",
    "\n",
    "def largest(list):\n",
    "    l = list[0]\n",
    "    for i in list:\n",
    "        if i > l:\n",
    "            l = i\n",
    "    print(l)\n",
    "    return\n",
    "\n",
    "def smallest(list):\n",
    "    s = list[0]\n",
    "    for i in list:\n",
    "        if i < s:\n",
    "            s = i\n",
    "    print(s)\n",
    "    return\n",
    "\n",
    "def devidablebythree(list):\n",
    "    numbers = []\n",
    "    for i in list:\n",
    "        if i % 3 == 0:\n",
    "            numbers.append(i)\n",
    "    print(numbers)\n",
    "    return\n",
    "        \n",
    "        \n",
    "largest(a) # equal to max(a)\n",
    "smallest(a) # equal to min(a)\n",
    "devidablebythree(a)\n",
    "    \n",
    "\n"
   ]
  }
 ],
 "metadata": {
  "interpreter": {
   "hash": "91a76cfce24dbe0482af89c059cae189bb68dd9bbcf9264f3a5ded3cbcdebcb9"
  },
  "kernelspec": {
   "display_name": "Python 3.9.7 64-bit ('base': conda)",
   "language": "python",
   "name": "python3"
  },
  "language_info": {
   "name": "python",
   "version": "3.9.7"
  },
  "orig_nbformat": 4
 },
 "nbformat": 4,
 "nbformat_minor": 2
}
