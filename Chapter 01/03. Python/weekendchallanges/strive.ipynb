{
 "cells": [
  {
   "cell_type": "code",
   "execution_count": 3,
   "metadata": {},
   "outputs": [
    {
     "name": "stdout",
     "output_type": "stream",
     "text": [
      "1\n",
      "2\n",
      "strive\n",
      "school\n",
      "strive school\n"
     ]
    }
   ],
   "source": [
    "def strive_school(numbers):\n",
    "    for i in numbers:\n",
    "        if i % 3 == 0 and i % 5 == 0:\n",
    "            print(\"strive school\")\n",
    "        elif i % 5 == 0:\n",
    "            print('school')\n",
    "        elif i % 3 == 0:\n",
    "            print('strive')\n",
    "        else: \n",
    "            print(i)\n",
    "    return\n",
    "\n",
    "strive_school([1, 2, 3, 5, 15])"
   ]
  },
  {
   "cell_type": "code",
   "execution_count": null,
   "metadata": {},
   "outputs": [],
   "source": []
  }
 ],
 "metadata": {
  "interpreter": {
   "hash": "91a76cfce24dbe0482af89c059cae189bb68dd9bbcf9264f3a5ded3cbcdebcb9"
  },
  "kernelspec": {
   "display_name": "Python 3.9.7 64-bit ('base': conda)",
   "language": "python",
   "name": "python3"
  },
  "language_info": {
   "codemirror_mode": {
    "name": "ipython",
    "version": 3
   },
   "file_extension": ".py",
   "mimetype": "text/x-python",
   "name": "python",
   "nbconvert_exporter": "python",
   "pygments_lexer": "ipython3",
   "version": "3.9.7"
  },
  "orig_nbformat": 4
 },
 "nbformat": 4,
 "nbformat_minor": 2
}
