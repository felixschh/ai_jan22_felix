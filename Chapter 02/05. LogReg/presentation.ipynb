{
 "cells": [
  {
   "cell_type": "markdown",
   "metadata": {},
   "source": [
    "# Logistic Regression and why we need it!"
   ]
  },
  {
   "cell_type": "markdown",
   "metadata": {},
   "source": [
    "## What is logistic Regression?\n"
   ]
  },
  {
   "cell_type": "markdown",
   "metadata": {},
   "source": [
    "#### - Logistic Regression is a linear classifier\n",
    "#### - it’s often close to either 0 or 1"
   ]
  },
  {
   "cell_type": "markdown",
   "metadata": {},
   "source": [
    "## Why do we need it?"
   ]
  },
  {
   "cell_type": "markdown",
   "metadata": {},
   "source": [
    "### - statistical software to understand the relationship between the dependent variable and one or more independent variables\n",
    "### - can help to predict the likelihood of an event happening or a choice being made\n"
   ]
  },
  {
   "cell_type": "markdown",
   "metadata": {},
   "source": [
    "## Advantages and Limitations"
   ]
  },
  {
   "cell_type": "markdown",
   "metadata": {},
   "source": [
    "### - Independent variables must be valid. Incorrect or incomplete variables will degrade a model’s predictive value.\n",
    "### - Avoid continuous outcomes. Temperatures, time or anything that is open-ended will make the model much less precise.\n",
    "### - Do not use inter-related data. If some observations are related to one another, the model will tend to overweight their significance.\n",
    "\n"
   ]
  },
  {
   "cell_type": "markdown",
   "metadata": {},
   "source": [
    "## Example tasks"
   ]
  },
  {
   "cell_type": "markdown",
   "metadata": {},
   "source": [
    "### - credit risk management\n",
    "### - consumer profiling\n"
   ]
  },
  {
   "cell_type": "markdown",
   "metadata": {},
   "source": [
    "# applied to a Dataset\n"
   ]
  },
  {
   "cell_type": "code",
   "execution_count": 61,
   "metadata": {},
   "outputs": [],
   "source": [
    "# importing libraries and functions\n",
    "from sklearn.datasets import load_digits\n",
    "import numpy as np \n",
    "import matplotlib.pyplot as plt\n",
    "from sklearn.model_selection import train_test_split\n",
    "from sklearn.linear_model import LogisticRegression\n",
    "\n",
    "\n",
    "# loading the the dataset - given by sklearn\n",
    "digits = load_digits()\n",
    "# print(digits.data.shape)\n",
    "# print(digits.target.shape)\n",
    "\n"
   ]
  },
  {
   "cell_type": "code",
   "execution_count": 47,
   "metadata": {},
   "outputs": [
    {
     "data": {
      "image/png": "[encoded data removed]",
      "text/plain": [
       "<Figure size 1440x288 with 10 Axes>"
      ]
     },
     "metadata": {
      "needs_background": "light"
     },
     "output_type": "display_data"
    }
   ],
   "source": [
    "# plotting the images to show how they look like\n",
    "plt.figure(figsize=(20,4))\n",
    "for index, (image, label) in enumerate(zip(digits.data[0:10], digits.target[0:10])):\n",
    "    plt.subplot(1, 10, index + 1)\n",
    "    plt.imshow(np.reshape(image, (8,8)), cmap=plt.cm.gray)\n",
    "    plt.title('Digit: %i\\n' % label, fontsize = 20)"
   ]
  },
  {
   "cell_type": "code",
   "execution_count": 60,
   "metadata": {},
   "outputs": [],
   "source": [
    "# splitting the data into train and test\n",
    "X_train, X_test, y_train, y_test = train_test_split(digits.data, digits.target, test_size=0.33, random_state=0)"
   ]
  },
  {
   "cell_type": "code",
   "execution_count": 49,
   "metadata": {},
   "outputs": [
    {
     "name": "stderr",
     "output_type": "stream",
     "text": [
      "/Users/felixschekerka/opt/anaconda3/envs/strive/lib/python3.9/site-packages/sklearn/linear_model/_logistic.py:814: ConvergenceWarning: lbfgs failed to converge (status=1):\n",
      "STOP: TOTAL NO. of ITERATIONS REACHED LIMIT.\n",
      "\n",
      "Increase the number of iterations (max_iter) or scale the data as shown in:\n",
      "    https://scikit-learn.org/stable/modules/preprocessing.html\n",
      "Please also refer to the documentation for alternative solver options:\n",
      "    https://scikit-learn.org/stable/modules/linear_model.html#logistic-regression\n",
      "  n_iter_i = _check_optimize_result(\n"
     ]
    },
    {
     "data": {
      "text/plain": [
       "LogisticRegression()"
      ]
     },
     "execution_count": 49,
     "metadata": {},
     "output_type": "execute_result"
    }
   ],
   "source": [
    "#setting logisticRegr to Logisticregression() with default settings\n",
    "logisticRegr = LogisticRegression()\n",
    "# learning the model the relation between the digits and the labels\n",
    "logisticRegr.fit(X_train, y_train)"
   ]
  },
  {
   "cell_type": "code",
   "execution_count": 62,
   "metadata": {},
   "outputs": [],
   "source": [
    "# predict single\n",
    "logisticRegr.predict(X_test[0].reshape(1,-1))\n",
    "# predict multi\n",
    "logisticRegr.predict(X_test[0:10])\n",
    "# predict entire data-set\n",
    "predictions = logisticRegr.predict(X_test)"
   ]
  },
  {
   "cell_type": "code",
   "execution_count": 63,
   "metadata": {},
   "outputs": [
    {
     "name": "stdout",
     "output_type": "stream",
     "text": [
      "[2 8 2 6 6 7 1 9 8 5 2 8 6 6 6 6 1 0 5 8 8 7 8 4 7 5 4 9 2 9 4 7 6 8 9 4 3\n",
      " 1 0 1 8 6 7 7 1 0 7 6 2 1 9 6 7 9 0 0 9 1 6 3 0 2 3 4 1 9 2 6 9 1 8 3 5 1\n",
      " 2 8 2 2 9 7 2 3 6 0 5 3 7 5 1 2 9 9 3 1 4 7 4 8 5 8 5 5 2 5 9 0 7 1 4 7 3\n",
      " 4 8 9 7 9 8 2 1 5 2 5 8 4 1 7 0 6 1 5 5 9 9 5 9 9 5 7 5 6 2 8 6 9 6 1 5 1\n",
      " 5 9 9 1 5 3 6 1 8 9 8 7 6 7 6 5 6 0 8 8 9 9 6 1 0 4 1 6 3 8 6 7 4 9 6 3 0\n",
      " 3 3 3 0 7 7 5 7 8 0 7 1 9 6 4 5 0 1 4 6 4 3 3 0 9 5 9 2 8 4 2 1 6 8 9 2 4\n",
      " 9 3 7 6 2 3 3 1 6 9 3 6 3 3 2 0 7 6 1 1 9 7 2 7 8 5 5 7 5 3 3 7 2 7 5 5 7\n",
      " 0 9 1 6 5 9 7 4 3 8 0 3 6 4 6 3 2 6 8 8 8 4 6 7 5 2 4 5 3 2 4 6 9 4 5 4 3\n",
      " 4 6 2 9 0 1 7 2 0 9 6 0 4 2 0 7 9 8 5 7 8 2 8 4 3 7 2 6 9 9 5 1 0 8 2 8 9\n",
      " 5 6 2 2 7 2 1 5 1 6 4 5 0 9 4 1 1 7 0 8 9 0 5 4 3 8 8 6 5 3 4 4 4 8 8 7 0\n",
      " 9 6 3 5 2 3 0 8 8 3 1 3 3 0 0 4 6 0 7 7 6 2 0 4 4 2 3 7 1 9 8 6 8 5 6 2 2\n",
      " 3 1 7 7 8 0 3 3 1 1 5 5 9 1 3 7 0 0 3 0 4 5 8 9 3 4 3 1 8 9 8 3 6 3 1 6 2\n",
      " 1 7 5 5 1 9 2 8 9 7 2 1 4 9 3 2 6 2 5 9 6 5 8 2 0 7 8 0 5 8 4 1 8 6 4 3 4\n",
      " 2 0 4 5 8 3 9 1 8 3 4 5 0 8 5 6 3 0 6 9 1 5 2 2 1 9 8 4 3 3 0 7 8 8 1 1 3\n",
      " 5 5 8 4 9 7 8 4 4 9 0 1 6 9 3 6 1 7 0 6 2 9 9 3 6 1 5 1 8 9 8 4 1 7 2 8 0\n",
      " 6 2 1 0 6 1 6 5 2 8 6 2 1 4 6 8 2 2 7 5 9 1 9 5 0 2 5 5 6 8 9 5 7 0 5 2 1\n",
      " 1 2]\n"
     ]
    }
   ],
   "source": [
    "print(predictions)"
   ]
  },
  {
   "cell_type": "code",
   "execution_count": 64,
   "metadata": {},
   "outputs": [
    {
     "name": "stdout",
     "output_type": "stream",
     "text": [
      "0.9629629629629629\n"
     ]
    }
   ],
   "source": [
    "# check accurracy\n",
    "accuracy = logisticRegr.score(X_test, y_test)\n",
    "print(accuracy)"
   ]
  },
  {
   "cell_type": "markdown",
   "metadata": {},
   "source": [
    "# Logistic Regression without SciKit-Learn\n"
   ]
  },
  {
   "cell_type": "code",
   "execution_count": 59,
   "metadata": {},
   "outputs": [
    {
     "name": "stdout",
     "output_type": "stream",
     "text": [
      "[0.99999832 0.99999999 0.99999986 0.99998893 0.99999993 1.\n",
      " 1.         1.         1.         1.         0.99999996 0.99999998\n",
      " 1.         0.9999991  0.99999409 1.         0.99998893 1.\n",
      " 1.         0.99999986]\n",
      "[0.99999832 0.99999999 0.99999986 0.99998893 0.99999993 1.\n",
      " 1.         1.         1.         1.         0.99999996 0.99999998\n",
      " 1.         0.9999991  0.99999409 1.         0.99998893 1.\n",
      " 1.         0.99999986]\n",
      "[0.99999832 0.99999999 0.99999986 0.99998893 0.99999993 1.\n",
      " 1.         1.         1.         1.         0.99999996 0.99999998\n",
      " 1.         0.9999991  0.99999409 1.         0.99998893 1.\n",
      " 1.         0.99999986]\n",
      "[0.99999832 0.99999999 0.99999986 0.99998893 0.99999993 1.\n",
      " 1.         1.         1.         1.         0.99999996 0.99999998\n",
      " 1.         0.9999991  0.99999409 1.         0.99998893 1.\n",
      " 1.         0.99999986]\n",
      "[0.99999832 0.99999999 0.99999986 0.99998893 0.99999993 1.\n",
      " 1.         1.         1.         1.         0.99999996 0.99999998\n",
      " 1.         0.9999991  0.99999409 1.         0.99998893 1.\n",
      " 1.         0.99999986]\n",
      "[0.99999832 0.99999999 0.99999986 0.99998893 0.99999993 1.\n",
      " 1.         1.         1.         1.         0.99999996 0.99999998\n",
      " 1.         0.9999991  0.99999409 1.         0.99998893 1.\n",
      " 1.         0.99999986]\n",
      "[0.99999832 0.99999999 0.99999986 0.99998893 0.99999993 1.\n",
      " 1.         1.         1.         1.         0.99999996 0.99999998\n",
      " 1.         0.9999991  0.99999409 1.         0.99998893 1.\n",
      " 1.         0.99999986]\n",
      "[0.99999832 0.99999999 0.99999986 0.99998893 0.99999993 1.\n",
      " 1.         1.         1.         1.         0.99999996 0.99999998\n",
      " 1.         0.9999991  0.99999409 1.         0.99998893 1.\n",
      " 1.         0.99999986]\n",
      "[0.99999832 0.99999999 0.99999986 0.99998893 0.99999993 1.\n",
      " 1.         1.         1.         1.         0.99999996 0.99999998\n",
      " 1.         0.9999991  0.99999409 1.         0.99998893 1.\n",
      " 1.         0.99999986]\n",
      "[0.99999832 0.99999999 0.99999986 0.99998893 0.99999993 1.\n",
      " 1.         1.         1.         1.         0.99999996 0.99999998\n",
      " 1.         0.9999991  0.99999409 1.         0.99998893 1.\n",
      " 1.         0.99999986]\n",
      "[0.99999832 0.99999999 0.99999986 0.99998893 0.99999993 1.\n",
      " 1.         1.         1.         1.         0.99999996 0.99999998\n",
      " 1.         0.9999991  0.99999409 1.         0.99998893 1.\n",
      " 1.         0.99999986]\n",
      "[0.99999832 0.99999999 0.99999986 0.99998893 0.99999993 1.\n",
      " 1.         1.         1.         1.         0.99999996 0.99999998\n",
      " 1.         0.9999991  0.99999409 1.         0.99998893 1.\n",
      " 1.         0.99999986]\n",
      "[0.99999832 0.99999999 0.99999986 0.99998893 0.99999993 1.\n",
      " 1.         1.         1.         1.         0.99999996 0.99999998\n",
      " 1.         0.9999991  0.99999409 1.         0.99998893 1.\n",
      " 1.         0.99999986]\n",
      "[0.99999832 0.99999999 0.99999986 0.99998893 0.99999993 1.\n",
      " 1.         1.         1.         1.         0.99999996 0.99999998\n",
      " 1.         0.9999991  0.99999409 1.         0.99998893 1.\n",
      " 1.         0.99999986]\n",
      "[0.99999832 0.99999999 0.99999986 0.99998893 0.99999993 1.\n",
      " 1.         1.         1.         1.         0.99999996 0.99999998\n",
      " 1.         0.9999991  0.99999409 1.         0.99998893 1.\n",
      " 1.         0.99999986]\n",
      "[0.99999832 0.99999999 0.99999986 0.99998893 0.99999993 1.\n",
      " 1.         1.         1.         1.         0.99999996 0.99999998\n",
      " 1.         0.9999991  0.99999409 1.         0.99998893 1.\n",
      " 1.         0.99999986]\n",
      "[0.99999832 0.99999999 0.99999986 0.99998893 0.99999993 1.\n",
      " 1.         1.         1.         1.         0.99999996 0.99999998\n",
      " 1.         0.9999991  0.99999409 1.         0.99998893 1.\n",
      " 1.         0.99999986]\n",
      "[0.99999832 0.99999999 0.99999986 0.99998893 0.99999993 1.\n",
      " 1.         1.         1.         1.         0.99999996 0.99999998\n",
      " 1.         0.9999991  0.99999409 1.         0.99998893 1.\n",
      " 1.         0.99999986]\n",
      "[0.99999832 0.99999999 0.99999986 0.99998893 0.99999993 1.\n",
      " 1.         1.         1.         1.         0.99999996 0.99999998\n",
      " 1.         0.9999991  0.99999409 1.         0.99998893 1.\n",
      " 1.         0.99999986]\n",
      "[0.99999832 0.99999999 0.99999986 0.99998893 0.99999993 1.\n",
      " 1.         1.         1.         1.         0.99999996 0.99999998\n",
      " 1.         0.9999991  0.99999409 1.         0.99998893 1.\n",
      " 1.         0.99999986]\n"
     ]
    }
   ],
   "source": [
    "import pandas as pd\n",
    "import numpy as np\n",
    "import matplotlib.pyplot as plt\n",
    "import random\n",
    "\n",
    "#declare the dataframe\n",
    "df = pd.DataFrame({'age': [22,25,47,52, 46,56,55,60,62,61,18,28,27,29,49,55,25,58,19,18,21,26,40,45,50,54,23], 'bought_insurance':[0,0,1,0,1,1,0,1,1,1,0,0,0,0,1,1,1,1,0,0,0,0,1,1,1,1,0]})\n",
    "\n",
    "# declare test and train\n",
    "test = df.sample(20)\n",
    "train = df[df.isin(test)]\n",
    "train.dropna(inplace = True)\n",
    "\n",
    "def sigmoid(x):\n",
    "  return 1/(1+np.exp(-x))\n",
    "\n",
    "def square_loss(y_pred, target):\n",
    "  return np.mean(pow((y_pred - target),2))\n",
    "\n",
    "# split data  into train and test\n",
    "X_train, y_train = train.age, train['bought_insurance']\n",
    "X_test, y_test = test.age, test['bought_insurance']\n",
    "\n",
    "# training the model\n",
    "lr = 0.01\n",
    "W = np.random.uniform(0,1)\n",
    "b = 0.1\n",
    "for i in range(10000):\n",
    "  z = np.dot(X_train, W) + b\n",
    "y_pred = sigmoid(z)\n",
    "l = square_loss(y_pred, y_train)\n",
    "gradient_W = np.dot((y_pred-y_train).T, X_train)/X_train.shape[0]\n",
    "gradient_b = np.mean(y_pred-y_train)\n",
    "W = W - lr * gradient_W\n",
    "b = b - lr * gradient_b\n",
    "\n",
    "#checking accuracy\n",
    "for i in range(len(X_test)):\n",
    "    r = sigmoid(np.dot(X_test, W) + b)\n",
    "    print(r)"
   ]
  },
  {
   "cell_type": "code",
   "execution_count": null,
   "metadata": {},
   "outputs": [],
   "source": []
  }
 ],
 "metadata": {
  "interpreter": {
   "hash": "3606f1f72cab31e12ded3fd4dc568aeec6faa77d43eaca4ad210e84657d2ac3e"
  },
  "kernelspec": {
   "display_name": "Python 3.9.7 ('strive')",
   "language": "python",
   "name": "python3"
  },
  "language_info": {
   "codemirror_mode": {
    "name": "ipython",
    "version": 3
   },
   "file_extension": ".py",
   "mimetype": "text/x-python",
   "name": "python",
   "nbconvert_exporter": "python",
   "pygments_lexer": "ipython3",
   "version": "3.9.7"
  },
  "orig_nbformat": 4
 },
 "nbformat": 4,
 "nbformat_minor": 2
}
